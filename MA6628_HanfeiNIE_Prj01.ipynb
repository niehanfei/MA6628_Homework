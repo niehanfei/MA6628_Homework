{
 "cells": [
  {
   "cell_type": "code",
   "execution_count": 3,
   "metadata": {},
   "outputs": [
    {
     "name": "stdout",
     "output_type": "stream",
     "text": [
      "The number of twin prime between 1000 to 1000000 is 8134\n",
      "\n",
      "The biggest twin prime between 1000 to 1000000 is 999959 and 999961\n"
     ]
    }
   ],
   "source": [
    "'''\n",
    "(i)  How many twin primes are bigger than one hundred but smaller than one million?\n",
    "(ii) What is the biggest twin prime you could find?\n",
    "'''\n",
    "\n",
    "import math\n",
    "p = 0        #Counter p to calculate the number of twin prime\n",
    "\n",
    "#Design a function to test an interger is a prime or not\n",
    "\n",
    "def f(n):\n",
    "    if n <= 1:\n",
    "        return False\n",
    "    elif n % 2 == 0 and n != 2:\n",
    "        return False\n",
    "    elif n % 3 == 0 and n != 3:\n",
    "        return False\n",
    "    elif n % 5 == 0 and n != 5:\n",
    "        return False\n",
    "    else:\n",
    "        for i in range(3, int(math.sqrt(n)) + 1, 2):\n",
    "                if n % i == 0:\n",
    "                    return False\n",
    "        return True\n",
    "\n",
    "# Using for loop to calculate the number of twin prime between 100 to 1000000.\n",
    "for i in range(1001,1000001):\n",
    "    if f(i) is True and f(i + 2) is True:\n",
    "        prime = i\n",
    "        p += 1\n",
    "\n",
    "#Print the answer\n",
    "print(f'The number of twin prime between 1000 to 1000000 is {p}')\n",
    "print('')\n",
    "print(f'The biggest twin prime between 1000 to 1000000 is {prime} and {prime+2}')"
   ]
  },
  {
   "cell_type": "code",
   "execution_count": null,
   "metadata": {},
   "outputs": [],
   "source": []
  },
  {
   "cell_type": "code",
   "execution_count": null,
   "metadata": {},
   "outputs": [],
   "source": []
  },
  {
   "cell_type": "code",
   "execution_count": null,
   "metadata": {},
   "outputs": [],
   "source": []
  }
 ],
 "metadata": {
  "kernelspec": {
   "display_name": "Python 3",
   "language": "python",
   "name": "python3"
  },
  "language_info": {
   "codemirror_mode": {
    "name": "ipython",
    "version": 3
   },
   "file_extension": ".py",
   "mimetype": "text/x-python",
   "name": "python",
   "nbconvert_exporter": "python",
   "pygments_lexer": "ipython3",
   "version": "3.6.5"
  }
 },
 "nbformat": 4,
 "nbformat_minor": 2
}
